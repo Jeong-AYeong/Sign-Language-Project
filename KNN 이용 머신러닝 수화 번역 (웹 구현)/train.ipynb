{
 "cells": [
  {
   "cell_type": "code",
   "execution_count": 12,
   "metadata": {},
   "outputs": [],
   "source": [
    "import numpy as np\n",
    "import os\n",
    "\n",
    "os.environ['CUDA_VISIBLE_DEVICES'] = '1'\n",
    "os.environ['TF_FORCE_GPU_ALLOW_GROWTH'] = 'true'"
   ]
  },
  {
   "cell_type": "markdown",
   "metadata": {},
   "source": [
    "# test"
   ]
  },
  {
   "cell_type": "code",
   "execution_count": 2,
   "metadata": {},
   "outputs": [
    {
     "ename": "NameError",
     "evalue": "name 'glob' is not defined",
     "output_type": "error",
     "traceback": [
      "\u001b[1;31m---------------------------------------------------------------------------\u001b[0m",
      "\u001b[1;31mNameError\u001b[0m                                 Traceback (most recent call last)",
      "\u001b[1;32m<ipython-input-2-43f77d4617db>\u001b[0m in \u001b[0;36m<module>\u001b[1;34m\u001b[0m\n\u001b[0;32m      8\u001b[0m \u001b[0mdata_load\u001b[0m \u001b[1;33m=\u001b[0m \u001b[1;33m[\u001b[0m\u001b[1;33m]\u001b[0m\u001b[1;33m\u001b[0m\u001b[1;33m\u001b[0m\u001b[0m\n\u001b[0;32m      9\u001b[0m \u001b[1;32mfor\u001b[0m \u001b[0mact\u001b[0m \u001b[1;32min\u001b[0m \u001b[0mactions\u001b[0m\u001b[1;33m:\u001b[0m\u001b[1;33m\u001b[0m\u001b[1;33m\u001b[0m\u001b[0m\n\u001b[1;32m---> 10\u001b[1;33m     \u001b[0mdata_load\u001b[0m\u001b[1;33m.\u001b[0m\u001b[0mappend\u001b[0m\u001b[1;33m(\u001b[0m\u001b[0mglob\u001b[0m\u001b[1;33m.\u001b[0m\u001b[0mglob\u001b[0m\u001b[1;33m(\u001b[0m\u001b[1;34mf'dataset/seq_{act}*.npy'\u001b[0m\u001b[1;33m)\u001b[0m\u001b[1;33m)\u001b[0m\u001b[1;33m\u001b[0m\u001b[1;33m\u001b[0m\u001b[0m\n\u001b[0m\u001b[0;32m     11\u001b[0m \u001b[0mnp_load\u001b[0m \u001b[1;33m=\u001b[0m \u001b[1;33m[\u001b[0m\u001b[1;33m]\u001b[0m\u001b[1;33m\u001b[0m\u001b[1;33m\u001b[0m\u001b[0m\n\u001b[0;32m     12\u001b[0m \u001b[1;32mfor\u001b[0m \u001b[0mdata\u001b[0m \u001b[1;32min\u001b[0m \u001b[0mdata_load\u001b[0m\u001b[1;33m:\u001b[0m\u001b[1;33m\u001b[0m\u001b[1;33m\u001b[0m\u001b[0m\n",
      "\u001b[1;31mNameError\u001b[0m: name 'glob' is not defined"
     ]
    }
   ],
   "source": [
    "actions = ['좋다','예쁘다','너','나','지우기','오늘','고마워','항상','안경','책',\n",
    "           '보다','먹다','자다','안녕']\n",
    "\n",
    "os.environ['CUDA_VISIBLE_DEVICES'] = '1'\n",
    "os.environ['TF_FORCE_GPU_ALLOW_GROWTH'] = 'true'\n",
    "\n",
    "\n",
    "data_load = []\n",
    "for act in actions:\n",
    "    data_load.append(glob.glob(f'dataset/seq_{act}*.npy'))\n",
    "np_load = []\n",
    "for data in data_load:\n",
    "    np_load.append(np.load(data[0]))"
   ]
  },
  {
   "cell_type": "markdown",
   "metadata": {},
   "source": [
    "# training "
   ]
  },
  {
   "cell_type": "code",
   "execution_count": 13,
   "metadata": {},
   "outputs": [],
   "source": [
    "import glob\n",
    "import numpy as np\n",
    "\n",
    "#부끄럽다, 모르다, 우리, 행복, 그리고, 처음, 아들, 무슨, 이름, 심심하다, 귀엽다, 색\n",
    "#나, 너, 좋다, 책, 예쁘다, 오늘, 지우기 \n",
    "\n",
    "actions = ['좋다','예쁘다','너','나','지우기','오늘','고마워','항상','안경','책',\n",
    "           '보다','먹다','자다','안녕','커피','사랑','대회','내일','노래','숙제']\n",
    "\n",
    "#actions = ['좋다','예쁘다','너','나','지우기','오늘','고마워','책','부끄럽다','모르다',\n",
    "#           '우리', '행복', '그리고', '처음','아들', '무슨', '이름', '심심하다', '귀엽다']\n",
    "#고마워, \n",
    "#안경, 자다, 안녕, 커피, 사랑, 대회, 내일, 노래, 숙제\n",
    "os.environ['CUDA_VISIBLE_DEVICES'] = '1'\n",
    "os.environ['TF_FORCE_GPU_ALLOW_GROWTH'] = 'true'\n",
    "\n",
    "\n",
    "data_load = []\n",
    "for act in actions:\n",
    "    data_load.append(glob.glob(f'dataset/seq_{act}*.npy'))\n",
    "np_load = []\n",
    "for data in data_load:\n",
    "    np_load.append(np.load(data[0]))"
   ]
  },
  {
   "cell_type": "code",
   "execution_count": 14,
   "metadata": {},
   "outputs": [
    {
     "data": {
      "text/plain": [
       "(16475, 30, 100)"
      ]
     },
     "execution_count": 14,
     "metadata": {},
     "output_type": "execute_result"
    }
   ],
   "source": [
    "data = np.concatenate(np_load, axis=0)\n",
    "\n",
    "data.shape"
   ]
  },
  {
   "cell_type": "code",
   "execution_count": 15,
   "metadata": {},
   "outputs": [
    {
     "name": "stdout",
     "output_type": "stream",
     "text": [
      "(16475, 30, 99)\n",
      "(16475,)\n"
     ]
    }
   ],
   "source": [
    "x_data = data[:, :, :-1]\n",
    "labels = data[:, 0, -1]\n",
    "\n",
    "print(x_data.shape)\n",
    "print(labels.shape)"
   ]
  },
  {
   "cell_type": "code",
   "execution_count": 16,
   "metadata": {},
   "outputs": [
    {
     "data": {
      "text/plain": [
       "(16475, 20)"
      ]
     },
     "execution_count": 16,
     "metadata": {},
     "output_type": "execute_result"
    }
   ],
   "source": [
    "from tensorflow.keras.utils import to_categorical\n",
    "\n",
    "y_data = to_categorical(labels, num_classes=len(actions))\n",
    "y_data.shape"
   ]
  },
  {
   "cell_type": "code",
   "execution_count": 17,
   "metadata": {},
   "outputs": [
    {
     "name": "stdout",
     "output_type": "stream",
     "text": [
      "(13180, 30, 99) (13180, 20)\n",
      "(3295, 30, 99) (3295, 20)\n"
     ]
    }
   ],
   "source": [
    "from sklearn.model_selection import train_test_split\n",
    "\n",
    "x_data = x_data.astype(np.float32)\n",
    "y_data = y_data.astype(np.float32)\n",
    "\n",
    "x_train, x_val, y_train, y_val = train_test_split(x_data, y_data, test_size=0.2, random_state=2023)\n",
    "\n",
    "print(x_train.shape, y_train.shape)\n",
    "print(x_val.shape, y_val.shape)"
   ]
  },
  {
   "cell_type": "code",
   "execution_count": 18,
   "metadata": {},
   "outputs": [
    {
     "name": "stdout",
     "output_type": "stream",
     "text": [
      "Model: \"sequential_1\"\n",
      "_________________________________________________________________\n",
      "Layer (type)                 Output Shape              Param #   \n",
      "=================================================================\n",
      "conv1d_1 (Conv1D)            (None, 30, 32)            15872     \n",
      "_________________________________________________________________\n",
      "max_pooling1d_1 (MaxPooling1 (None, 15, 32)            0         \n",
      "_________________________________________________________________\n",
      "lstm_1 (LSTM)                (None, 64)                24832     \n",
      "_________________________________________________________________\n",
      "dropout_1 (Dropout)          (None, 64)                0         \n",
      "_________________________________________________________________\n",
      "dense_2 (Dense)              (None, 32)                2080      \n",
      "_________________________________________________________________\n",
      "dense_3 (Dense)              (None, 20)                660       \n",
      "=================================================================\n",
      "Total params: 43,444\n",
      "Trainable params: 43,444\n",
      "Non-trainable params: 0\n",
      "_________________________________________________________________\n"
     ]
    }
   ],
   "source": [
    "from tensorflow.keras.models import Sequential\n",
    "from tensorflow.keras.layers import LSTM, Dense, Dropout, Conv1D, MaxPooling1D\n",
    "import tensorflow as tf\n",
    "\n",
    "# model = Sequential([\n",
    "#     LSTM(64, activation='relu', input_shape=x_train.shape[1:3]),\n",
    "#     Dense(32, activation='relu'),\n",
    "#     Dense(len(actions), activation='softmax')\n",
    "# ])\n",
    "\n",
    "model = Sequential([\n",
    "    Conv1D(filters=32, kernel_size=5, padding='same', activation='relu', input_shape=x_train.shape[1:3]), \n",
    "    MaxPooling1D(pool_size=2),\n",
    "    LSTM(64, activation='relu'),\n",
    "    Dropout(0.2), \n",
    "    Dense(32, activation='relu'),\n",
    "#     Dense(64, activation='relu'),\n",
    "#     Dense(32, activation='relu'),\n",
    "    Dense(len(actions), activation='softmax')\n",
    "])\n",
    "\n",
    "\n",
    "model.compile(optimizer='adam', loss='categorical_crossentropy', metrics=['acc'])\n",
    "model.summary()"
   ]
  },
  {
   "cell_type": "code",
   "execution_count": 19,
   "metadata": {
    "scrolled": true
   },
   "outputs": [
    {
     "name": "stdout",
     "output_type": "stream",
     "text": [
      "Epoch 1/50\n",
      "408/412 [============================>.] - ETA: 0s - loss: 2.3179 - acc: 0.5434\n",
      "Epoch 00001: val_acc improved from -inf to 0.88498, saving model to models\\model.h5\n",
      "412/412 [==============================] - 3s 8ms/step - loss: 2.3020 - acc: 0.5456 - val_loss: 0.4047 - val_acc: 0.8850\n",
      "Epoch 2/50\n",
      "411/412 [============================>.] - ETA: 0s - loss: 0.4066 - acc: 0.8676\n",
      "Epoch 00002: val_acc improved from 0.88498 to 0.94901, saving model to models\\model.h5\n",
      "412/412 [==============================] - 3s 7ms/step - loss: 0.4062 - acc: 0.8676 - val_loss: 0.1338 - val_acc: 0.9490\n",
      "Epoch 3/50\n",
      "409/412 [============================>.] - ETA: 0s - loss: 0.2046 - acc: 0.9324\n",
      "Epoch 00003: val_acc improved from 0.94901 to 0.98240, saving model to models\\model.h5\n",
      "412/412 [==============================] - 3s 7ms/step - loss: 0.2036 - acc: 0.9328 - val_loss: 0.0684 - val_acc: 0.9824\n",
      "Epoch 4/50\n",
      "408/412 [============================>.] - ETA: 0s - loss: 0.1760 - acc: 0.9484\n",
      "Epoch 00004: val_acc did not improve from 0.98240\n",
      "412/412 [==============================] - 3s 7ms/step - loss: 0.1756 - acc: 0.9482 - val_loss: 0.1060 - val_acc: 0.9703\n",
      "Epoch 5/50\n",
      "409/412 [============================>.] - ETA: 0s - loss: 0.1371 - acc: 0.9616\n",
      "Epoch 00005: val_acc improved from 0.98240 to 0.98665, saving model to models\\model.h5\n",
      "412/412 [==============================] - 3s 6ms/step - loss: 0.1371 - acc: 0.9616 - val_loss: 0.0584 - val_acc: 0.9866\n",
      "Epoch 6/50\n",
      "410/412 [============================>.] - ETA: 0s - loss: 0.0878 - acc: 0.9748\n",
      "Epoch 00006: val_acc improved from 0.98665 to 0.99757, saving model to models\\model.h5\n",
      "412/412 [==============================] - 3s 6ms/step - loss: 0.0874 - acc: 0.9749 - val_loss: 0.0097 - val_acc: 0.9976\n",
      "Epoch 7/50\n",
      "404/412 [============================>.] - ETA: 0s - loss: 0.0798 - acc: 0.9797\n",
      "Epoch 00007: val_acc did not improve from 0.99757\n",
      "412/412 [==============================] - 3s 6ms/step - loss: 0.0794 - acc: 0.9798 - val_loss: 0.0274 - val_acc: 0.9915\n",
      "Epoch 8/50\n",
      "405/412 [============================>.] - ETA: 0s - loss: 0.0545 - acc: 0.9843\n",
      "Epoch 00008: val_acc did not improve from 0.99757\n",
      "412/412 [==============================] - 3s 6ms/step - loss: 0.0539 - acc: 0.9846 - val_loss: 0.0100 - val_acc: 0.9970\n",
      "Epoch 9/50\n",
      "409/412 [============================>.] - ETA: 0s - loss: 0.0964 - acc: 0.9733\n",
      "Epoch 00009: val_acc did not improve from 0.99757\n",
      "412/412 [==============================] - 3s 6ms/step - loss: 0.0959 - acc: 0.9734 - val_loss: 0.0447 - val_acc: 0.9897\n",
      "Epoch 10/50\n",
      "411/412 [============================>.] - ETA: 0s - loss: 0.0825 - acc: 0.9792\n",
      "Epoch 00010: val_acc did not improve from 0.99757\n",
      "412/412 [==============================] - 3s 6ms/step - loss: 0.0823 - acc: 0.9792 - val_loss: 0.0399 - val_acc: 0.9930\n",
      "Epoch 11/50\n",
      "411/412 [============================>.] - ETA: 0s - loss: 0.1364 - acc: 0.9658\n",
      "Epoch 00011: val_acc did not improve from 0.99757\n",
      "412/412 [==============================] - 3s 6ms/step - loss: 0.1361 - acc: 0.9659 - val_loss: 0.0817 - val_acc: 0.9857\n",
      "Epoch 12/50\n",
      "406/412 [============================>.] - ETA: 0s - loss: 0.0364 - acc: 0.9906\n",
      "Epoch 00012: val_acc did not improve from 0.99757\n",
      "412/412 [==============================] - 3s 6ms/step - loss: 0.0362 - acc: 0.9907 - val_loss: 0.0140 - val_acc: 0.9961\n",
      "Epoch 13/50\n",
      "407/412 [============================>.] - ETA: 0s - loss: 0.1319 - acc: 0.9684\n",
      "Epoch 00013: val_acc did not improve from 0.99757\n",
      "412/412 [==============================] - 3s 6ms/step - loss: 0.1362 - acc: 0.9675 - val_loss: 0.3217 - val_acc: 0.9020\n",
      "Epoch 14/50\n",
      "410/412 [============================>.] - ETA: 0s - loss: 0.2338 - acc: 0.9399\n",
      "Epoch 00014: val_acc did not improve from 0.99757\n",
      "412/412 [==============================] - 3s 6ms/step - loss: 0.2339 - acc: 0.9400 - val_loss: 0.1477 - val_acc: 0.9618\n",
      "Epoch 15/50\n",
      "409/412 [============================>.] - ETA: 0s - loss: 0.4011 - acc: 0.8886\n",
      "Epoch 00015: val_acc did not improve from 0.99757\n",
      "412/412 [==============================] - 3s 6ms/step - loss: 0.3996 - acc: 0.8891 - val_loss: 0.1070 - val_acc: 0.9693\n",
      "Epoch 16/50\n",
      "408/412 [============================>.] - ETA: 0s - loss: 0.0963 - acc: 0.9709\n",
      "Epoch 00016: val_acc did not improve from 0.99757\n",
      "\n",
      "Epoch 00016: ReduceLROnPlateau reducing learning rate to 0.0005000000237487257.\n",
      "412/412 [==============================] - 3s 6ms/step - loss: 0.0961 - acc: 0.9709 - val_loss: 0.0194 - val_acc: 0.9948\n",
      "Epoch 17/50\n",
      "404/412 [============================>.] - ETA: 0s - loss: 0.0293 - acc: 0.9910\n",
      "Epoch 00017: val_acc did not improve from 0.99757\n",
      "412/412 [==============================] - 3s 6ms/step - loss: 0.0292 - acc: 0.9910 - val_loss: 0.0176 - val_acc: 0.9939\n",
      "Epoch 18/50\n",
      "407/412 [============================>.] - ETA: 0s - loss: 0.0227 - acc: 0.9934\n",
      "Epoch 00018: val_acc improved from 0.99757 to 0.99818, saving model to models\\model.h5\n",
      "412/412 [==============================] - 3s 6ms/step - loss: 0.0225 - acc: 0.9934 - val_loss: 0.0056 - val_acc: 0.9982\n",
      "Epoch 19/50\n",
      "404/412 [============================>.] - ETA: 0s - loss: 0.0117 - acc: 0.9971\n",
      "Epoch 00019: val_acc improved from 0.99818 to 0.99909, saving model to models\\model.h5\n",
      "412/412 [==============================] - 3s 6ms/step - loss: 0.0116 - acc: 0.9971 - val_loss: 0.0025 - val_acc: 0.9991\n",
      "Epoch 20/50\n",
      "404/412 [============================>.] - ETA: 0s - loss: 0.0165 - acc: 0.9954\n",
      "Epoch 00020: val_acc did not improve from 0.99909\n",
      "412/412 [==============================] - 3s 6ms/step - loss: 0.0163 - acc: 0.9954 - val_loss: 0.0039 - val_acc: 0.9991\n",
      "Epoch 21/50\n",
      "408/412 [============================>.] - ETA: 0s - loss: 0.0727 - acc: 0.9814\n",
      "Epoch 00021: val_acc did not improve from 0.99909\n",
      "412/412 [==============================] - 3s 6ms/step - loss: 0.0721 - acc: 0.9816 - val_loss: 0.0060 - val_acc: 0.9988\n",
      "Epoch 22/50\n",
      "404/412 [============================>.] - ETA: 0s - loss: 0.0133 - acc: 0.9963\n",
      "Epoch 00022: val_acc improved from 0.99909 to 0.99939, saving model to models\\model.h5\n",
      "412/412 [==============================] - 3s 6ms/step - loss: 0.0131 - acc: 0.9963 - val_loss: 0.0027 - val_acc: 0.9994\n",
      "Epoch 23/50\n",
      "404/412 [============================>.] - ETA: 0s - loss: 0.0285 - acc: 0.9912\n",
      "Epoch 00023: val_acc did not improve from 0.99939\n",
      "412/412 [==============================] - 3s 6ms/step - loss: 0.0284 - acc: 0.9911 - val_loss: 0.0033 - val_acc: 0.9988\n",
      "Epoch 24/50\n",
      "407/412 [============================>.] - ETA: 0s - loss: 0.1351 - acc: 0.9710\n",
      "Epoch 00024: val_acc did not improve from 0.99939\n",
      "412/412 [==============================] - 3s 6ms/step - loss: 0.1339 - acc: 0.9712 - val_loss: 0.0226 - val_acc: 0.9936\n",
      "Epoch 25/50\n",
      "412/412 [==============================] - ETA: 0s - loss: 0.0251 - acc: 0.9922\n",
      "Epoch 00025: val_acc did not improve from 0.99939\n",
      "412/412 [==============================] - 3s 6ms/step - loss: 0.0251 - acc: 0.9922 - val_loss: 0.0042 - val_acc: 0.9988\n",
      "Epoch 26/50\n",
      "405/412 [============================>.] - ETA: 0s - loss: 0.0117 - acc: 0.9968\n",
      "Epoch 00026: val_acc did not improve from 0.99939\n",
      "412/412 [==============================] - 3s 7ms/step - loss: 0.0116 - acc: 0.9968 - val_loss: 0.0063 - val_acc: 0.9982\n",
      "Epoch 27/50\n",
      "409/412 [============================>.] - ETA: 0s - loss: 0.0063 - acc: 0.9982\n",
      "Epoch 00027: val_acc did not improve from 0.99939\n",
      "412/412 [==============================] - 3s 6ms/step - loss: 0.0063 - acc: 0.9983 - val_loss: 0.0018 - val_acc: 0.9994\n",
      "Epoch 28/50\n",
      "411/412 [============================>.] - ETA: 0s - loss: 0.0391 - acc: 0.9911\n",
      "Epoch 00028: val_acc did not improve from 0.99939\n",
      "412/412 [==============================] - 3s 6ms/step - loss: 0.0392 - acc: 0.9910 - val_loss: 0.0183 - val_acc: 0.9964\n",
      "Epoch 29/50\n",
      "406/412 [============================>.] - ETA: 0s - loss: 0.0136 - acc: 0.9968\n",
      "Epoch 00029: val_acc did not improve from 0.99939\n",
      "412/412 [==============================] - 3s 6ms/step - loss: 0.0135 - acc: 0.9969 - val_loss: 0.0067 - val_acc: 0.9979\n",
      "Epoch 30/50\n",
      "404/412 [============================>.] - ETA: 0s - loss: 0.0170 - acc: 0.9964\n",
      "Epoch 00030: val_acc did not improve from 0.99939\n",
      "412/412 [==============================] - 3s 6ms/step - loss: 0.0167 - acc: 0.9964 - val_loss: 0.0013 - val_acc: 0.9994\n"
     ]
    },
    {
     "name": "stdout",
     "output_type": "stream",
     "text": [
      "Epoch 31/50\n",
      "408/412 [============================>.] - ETA: 0s - loss: 0.0098 - acc: 0.9973- ETA: 1s - loss:\n",
      "Epoch 00031: val_acc did not improve from 0.99939\n",
      "412/412 [==============================] - 3s 6ms/step - loss: 0.0097 - acc: 0.9973 - val_loss: 0.0026 - val_acc: 0.9988\n",
      "Epoch 32/50\n",
      "411/412 [============================>.] - ETA: 0s - loss: 0.0117 - acc: 0.9973\n",
      "Epoch 00032: val_acc improved from 0.99939 to 1.00000, saving model to models\\model.h5\n",
      "412/412 [==============================] - 3s 6ms/step - loss: 0.0116 - acc: 0.9973 - val_loss: 4.2612e-04 - val_acc: 1.0000\n",
      "Epoch 33/50\n",
      "408/412 [============================>.] - ETA: 0s - loss: 0.0411 - acc: 0.9926\n",
      "Epoch 00033: val_acc did not improve from 1.00000\n",
      "412/412 [==============================] - 3s 6ms/step - loss: 0.0410 - acc: 0.9925 - val_loss: 0.0213 - val_acc: 0.9921\n",
      "Epoch 34/50\n",
      "407/412 [============================>.] - ETA: 0s - loss: 0.0072 - acc: 0.9981\n",
      "Epoch 00034: val_acc did not improve from 1.00000\n",
      "412/412 [==============================] - 3s 6ms/step - loss: 0.0075 - acc: 0.9980 - val_loss: 0.0011 - val_acc: 0.9997\n",
      "Epoch 35/50\n",
      "412/412 [==============================] - ETA: 0s - loss: 0.0030 - acc: 0.9992\n",
      "Epoch 00035: val_acc did not improve from 1.00000\n",
      "412/412 [==============================] - 3s 6ms/step - loss: 0.0030 - acc: 0.9992 - val_loss: 0.0043 - val_acc: 0.9988\n",
      "Epoch 36/50\n",
      "406/412 [============================>.] - ETA: 0s - loss: 0.0165 - acc: 0.9963\n",
      "Epoch 00036: val_acc did not improve from 1.00000\n",
      "412/412 [==============================] - 3s 6ms/step - loss: 0.0163 - acc: 0.9964 - val_loss: 0.0049 - val_acc: 0.9991\n",
      "Epoch 37/50\n",
      "412/412 [==============================] - ETA: 0s - loss: 0.0233 - acc: 0.9954\n",
      "Epoch 00037: val_acc did not improve from 1.00000\n",
      "412/412 [==============================] - 3s 6ms/step - loss: 0.0233 - acc: 0.9954 - val_loss: 8.1403e-04 - val_acc: 0.9997\n",
      "Epoch 38/50\n",
      "410/412 [============================>.] - ETA: 0s - loss: 9.2891e-04 - acc: 0.9999\n",
      "Epoch 00038: val_acc did not improve from 1.00000\n",
      "412/412 [==============================] - 3s 6ms/step - loss: 9.2472e-04 - acc: 0.9999 - val_loss: 1.1197e-04 - val_acc: 1.0000\n",
      "Epoch 39/50\n",
      "406/412 [============================>.] - ETA: 0s - loss: 0.0023 - acc: 0.9993\n",
      "Epoch 00039: val_acc did not improve from 1.00000\n",
      "412/412 [==============================] - 3s 6ms/step - loss: 0.0022 - acc: 0.9993 - val_loss: 0.0185 - val_acc: 0.9945\n",
      "Epoch 40/50\n",
      "412/412 [==============================] - ETA: 0s - loss: 0.0805 - acc: 0.9855\n",
      "Epoch 00040: val_acc did not improve from 1.00000\n",
      "412/412 [==============================] - 3s 6ms/step - loss: 0.0805 - acc: 0.9855 - val_loss: 0.0118 - val_acc: 0.9961\n",
      "Epoch 41/50\n",
      "412/412 [==============================] - ETA: 0s - loss: 0.3548 - acc: 0.9774\n",
      "Epoch 00041: val_acc did not improve from 1.00000\n",
      "412/412 [==============================] - 3s 6ms/step - loss: 0.3548 - acc: 0.9774 - val_loss: 0.1802 - val_acc: 0.9657\n",
      "Epoch 42/50\n",
      "406/412 [============================>.] - ETA: 0s - loss: 0.0244 - acc: 0.9935\n",
      "Epoch 00042: val_acc did not improve from 1.00000\n",
      "\n",
      "Epoch 00042: ReduceLROnPlateau reducing learning rate to 0.0002500000118743628.\n",
      "412/412 [==============================] - 3s 6ms/step - loss: 0.0241 - acc: 0.9936 - val_loss: 0.0021 - val_acc: 0.9994\n",
      "Epoch 43/50\n",
      "406/412 [============================>.] - ETA: 0s - loss: 0.0040 - acc: 0.9989\n",
      "Epoch 00043: val_acc did not improve from 1.00000\n",
      "412/412 [==============================] - 3s 6ms/step - loss: 0.0040 - acc: 0.9989 - val_loss: 1.8555e-04 - val_acc: 1.0000\n",
      "Epoch 44/50\n",
      "408/412 [============================>.] - ETA: 0s - loss: 0.0051 - acc: 0.9988\n",
      "Epoch 00044: val_acc did not improve from 1.00000\n",
      "412/412 [==============================] - 3s 6ms/step - loss: 0.0051 - acc: 0.9988 - val_loss: 0.0042 - val_acc: 0.9985\n",
      "Epoch 45/50\n",
      "406/412 [============================>.] - ETA: 0s - loss: 0.0050 - acc: 0.9985\n",
      "Epoch 00045: val_acc did not improve from 1.00000\n",
      "412/412 [==============================] - 3s 6ms/step - loss: 0.0050 - acc: 0.9985 - val_loss: 1.0741e-04 - val_acc: 1.0000\n",
      "Epoch 46/50\n",
      "404/412 [============================>.] - ETA: 0s - loss: 0.0018 - acc: 0.9995\n",
      "Epoch 00046: val_acc did not improve from 1.00000\n",
      "412/412 [==============================] - 3s 6ms/step - loss: 0.0018 - acc: 0.9995 - val_loss: 1.6741e-04 - val_acc: 1.0000\n",
      "Epoch 47/50\n",
      "404/412 [============================>.] - ETA: 0s - loss: 0.0014 - acc: 0.9996\n",
      "Epoch 00047: val_acc did not improve from 1.00000\n",
      "412/412 [==============================] - 3s 6ms/step - loss: 0.0014 - acc: 0.9996 - val_loss: 1.1707e-04 - val_acc: 1.0000\n",
      "Epoch 48/50\n",
      "408/412 [============================>.] - ETA: 0s - loss: 0.0012 - acc: 0.9995\n",
      "Epoch 00048: val_acc did not improve from 1.00000\n",
      "412/412 [==============================] - 3s 6ms/step - loss: 0.0012 - acc: 0.9995 - val_loss: 1.0595e-04 - val_acc: 1.0000\n",
      "Epoch 49/50\n",
      "412/412 [==============================] - ETA: 0s - loss: 0.0076 - acc: 0.9992\n",
      "Epoch 00049: val_acc did not improve from 1.00000\n",
      "412/412 [==============================] - 3s 6ms/step - loss: 0.0076 - acc: 0.9992 - val_loss: 0.0108 - val_acc: 0.9976\n",
      "Epoch 50/50\n",
      "411/412 [============================>.] - ETA: 0s - loss: 0.0013 - acc: 0.9996\n",
      "Epoch 00050: val_acc did not improve from 1.00000\n",
      "412/412 [==============================] - 3s 6ms/step - loss: 0.0013 - acc: 0.9996 - val_loss: 4.0262e-04 - val_acc: 0.9997\n"
     ]
    }
   ],
   "source": [
    "from tensorflow.keras.callbacks import ModelCheckpoint, ReduceLROnPlateau\n",
    "\n",
    "history = model.fit(\n",
    "    x_train,\n",
    "    y_train,\n",
    "    validation_data=(x_val, y_val),\n",
    "    epochs=50,\n",
    "    callbacks=[\n",
    "        ModelCheckpoint('models/model.h5', monitor='val_acc', verbose=1, save_best_only=True, mode='auto'),\n",
    "        ReduceLROnPlateau(monitor='val_acc', factor=0.5, patience=10, verbose=1, mode='auto')\n",
    "    ]\n",
    ")"
   ]
  },
  {
   "cell_type": "code",
   "execution_count": 20,
   "metadata": {},
   "outputs": [
    {
     "data": {
      "image/png": "[encoded data removed]",
      "text/plain": [
       "<Figure size 1152x720 with 2 Axes>"
      ]
     },
     "metadata": {
      "needs_background": "light"
     },
     "output_type": "display_data"
    }
   ],
   "source": [
    "import matplotlib.pyplot as plt\n",
    "\n",
    "fig, loss_ax = plt.subplots(figsize=(16, 10))\n",
    "acc_ax = loss_ax.twinx()\n",
    "\n",
    "loss_ax.plot(history.history['loss'], 'y', label='train loss')\n",
    "loss_ax.plot(history.history['val_loss'], 'r', label='val loss')\n",
    "loss_ax.set_xlabel('epoch')\n",
    "loss_ax.set_ylabel('loss')\n",
    "loss_ax.legend(loc='upper left')\n",
    "\n",
    "acc_ax.plot(history.history['acc'], 'b', label='train acc')\n",
    "acc_ax.plot(history.history['val_acc'], 'g', label='val acc')\n",
    "acc_ax.set_ylabel('accuracy')\n",
    "acc_ax.legend(loc='upper left')\n",
    "\n",
    "plt.show()"
   ]
  },
  {
   "cell_type": "code",
   "execution_count": 21,
   "metadata": {},
   "outputs": [
    {
     "data": {
      "text/plain": [
       "array([[[2937,    0],\n",
       "        [   0,  358]],\n",
       "\n",
       "       [[3117,    0],\n",
       "        [   0,  178]],\n",
       "\n",
       "       [[3101,    0],\n",
       "        [   0,  194]],\n",
       "\n",
       "       [[2975,    0],\n",
       "        [   0,  320]],\n",
       "\n",
       "       [[2956,    0],\n",
       "        [   0,  339]],\n",
       "\n",
       "       [[2850,    0],\n",
       "        [   0,  445]],\n",
       "\n",
       "       [[2839,    0],\n",
       "        [   0,  456]],\n",
       "\n",
       "       [[3001,    0],\n",
       "        [   0,  294]],\n",
       "\n",
       "       [[3028,    0],\n",
       "        [   0,  267]],\n",
       "\n",
       "       [[2851,    0],\n",
       "        [   0,  444]]], dtype=int64)"
      ]
     },
     "execution_count": 21,
     "metadata": {},
     "output_type": "execute_result"
    }
   ],
   "source": [
    "from sklearn.metrics import multilabel_confusion_matrix\n",
    "from tensorflow.keras.models import load_model\n",
    "\n",
    "model = load_model('models/model.h5')\n",
    "\n",
    "y_pred = model.predict(x_val)\n",
    "\n",
    "multilabel_confusion_matrix(np.argmax(y_val, axis=1), np.argmax(y_pred, axis=1))"
   ]
  },
  {
   "cell_type": "code",
   "execution_count": null,
   "metadata": {},
   "outputs": [],
   "source": [
    "\n",
    "\n"
   ]
  }
 ],
 "metadata": {
  "kernelspec": {
   "display_name": "Python 3",
   "language": "python",
   "name": "python3"
  },
  "language_info": {
   "codemirror_mode": {
    "name": "ipython",
    "version": 3
   },
   "file_extension": ".py",
   "mimetype": "text/x-python",
   "name": "python",
   "nbconvert_exporter": "python",
   "pygments_lexer": "ipython3",
   "version": "3.8.8"
  }
 },
 "nbformat": 4,
 "nbformat_minor": 4
}
